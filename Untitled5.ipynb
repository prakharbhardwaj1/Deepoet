{
  "nbformat": 4,
  "nbformat_minor": 0,
  "metadata": {
    "colab": {
      "name": "Untitled5.ipynb",
      "provenance": [],
      "authorship_tag": "ABX9TyMf5oJILdsG5foNPBKTSm0i",
      "include_colab_link": true
    },
    "kernelspec": {
      "name": "python3",
      "display_name": "Python 3"
    }
  },
  "cells": [
    {
      "cell_type": "markdown",
      "metadata": {
        "id": "view-in-github",
        "colab_type": "text"
      },
      "source": [
        "<a href=\"https://colab.research.google.com/github/prakharbhardwaj1/Deepoet/blob/master/Untitled5.ipynb\" target=\"_parent\"><img src=\"https://colab.research.google.com/assets/colab-badge.svg\" alt=\"Open In Colab\"/></a>"
      ]
    },
    {
      "cell_type": "code",
      "metadata": {
        "id": "4t871cc71YX_",
        "colab_type": "code",
        "colab": {}
      },
      "source": [
        "from tensorflow.keras.preprocessing.sequence import pad_sequences\n",
        "from tensorflow.keras.layers import Embedding, LSTM, Dense, Dropout, Bidirectional\n",
        "from tensorflow.keras.preprocessing.text import Tokenizer\n",
        "from tensorflow.keras.models import Sequential\n",
        "from tensorflow.keras.optimizers import Adam\n",
        "from tensorflow.keras import regularizers\n",
        "import tensorflow.keras.utils as ku \n",
        "import numpy as np"
      ],
      "execution_count": 0,
      "outputs": []
    },
    {
      "cell_type": "code",
      "metadata": {
        "id": "yy3PZbXR6EGh",
        "colab_type": "code",
        "colab": {}
      },
      "source": [
        "tokenizer = Tokenizer()"
      ],
      "execution_count": 0,
      "outputs": []
    },
    {
      "cell_type": "code",
      "metadata": {
        "id": "CDYgeT_4CLjQ",
        "colab_type": "code",
        "colab": {}
      },
      "source": [
        "data = open('songs.txt').read()"
      ],
      "execution_count": 0,
      "outputs": []
    },
    {
      "cell_type": "code",
      "metadata": {
        "id": "38cv7W96ClJx",
        "colab_type": "code",
        "colab": {}
      },
      "source": [
        "corpus = data.lower().split(\"\\n\")\n",
        "\n",
        "\n",
        "tokenizer.fit_on_texts(corpus)\n",
        "total_words = len(tokenizer.word_index) + 1\n",
        "\n",
        "# create input sequences using list of tokens\n",
        "input_sequences = []\n",
        "for line in corpus:\n",
        "\ttoken_list = tokenizer.texts_to_sequences([line])[0]\n",
        "\tfor i in range(1, len(token_list)):\n",
        "\t\tn_gram_sequence = token_list[:i+1]\n",
        "\t\tinput_sequences.append(n_gram_sequence)\n",
        "\n",
        "\n",
        "# pad sequences \n",
        "max_sequence_len = max([len(x) for x in input_sequences])\n",
        "input_sequences = np.array(pad_sequences(input_sequences, maxlen=max_sequence_len, padding='pre'))\n",
        "\n",
        "# create predictors and label\n",
        "predictors, label = input_sequences[:,:-1],input_sequences[:,-1]\n",
        "\n",
        "label = ku.to_categorical(label, num_classes=total_words)"
      ],
      "execution_count": 0,
      "outputs": []
    },
    {
      "cell_type": "code",
      "metadata": {
        "id": "L2QFpLH0DbHW",
        "colab_type": "code",
        "colab": {
          "base_uri": "https://localhost:8080/",
          "height": 366
        },
        "outputId": "553d1510-440d-4dc6-cc99-0fbbc4a54abc"
      },
      "source": [
        "model = Sequential()\n",
        "model.add(Embedding(total_words, 100, input_length=max_sequence_len-1))\n",
        "model.add(Bidirectional(LSTM(200, return_sequences = True)))\n",
        "model.add(Dropout(0.2))\n",
        "model.add(LSTM(150))\n",
        "model.add(Dense(total_words/2, activation='relu', kernel_regularizer=regularizers.l2(0.01)))\n",
        "model.add(Dense(total_words, activation='softmax'))\n",
        "model.compile(loss='categorical_crossentropy', optimizer='adam', metrics=['accuracy'])\n",
        "print(model.summary())"
      ],
      "execution_count": 13,
      "outputs": [
        {
          "output_type": "stream",
          "text": [
            "Model: \"sequential_1\"\n",
            "_________________________________________________________________\n",
            "Layer (type)                 Output Shape              Param #   \n",
            "=================================================================\n",
            "embedding_1 (Embedding)      (None, 15, 100)           66500     \n",
            "_________________________________________________________________\n",
            "bidirectional_1 (Bidirection (None, 15, 400)           481600    \n",
            "_________________________________________________________________\n",
            "dropout_1 (Dropout)          (None, 15, 400)           0         \n",
            "_________________________________________________________________\n",
            "lstm_3 (LSTM)                (None, 150)               330600    \n",
            "_________________________________________________________________\n",
            "dense_2 (Dense)              (None, 332)               50132     \n",
            "_________________________________________________________________\n",
            "dense_3 (Dense)              (None, 665)               221445    \n",
            "=================================================================\n",
            "Total params: 1,150,277\n",
            "Trainable params: 1,150,277\n",
            "Non-trainable params: 0\n",
            "_________________________________________________________________\n",
            "None\n"
          ],
          "name": "stdout"
        }
      ]
    },
    {
      "cell_type": "code",
      "metadata": {
        "id": "LnpGlXQ_DhyD",
        "colab_type": "code",
        "colab": {
          "base_uri": "https://localhost:8080/",
          "height": 1000
        },
        "outputId": "e22b952c-e724-4282-cc61-9d93d950835d"
      },
      "source": [
        "history = model.fit(predictors, label, epochs=90, verbose=1)"
      ],
      "execution_count": 14,
      "outputs": [
        {
          "output_type": "stream",
          "text": [
            "Epoch 1/90\n",
            "99/99 [==============================] - 12s 123ms/step - loss: 6.6993 - accuracy: 0.0388\n",
            "Epoch 2/90\n",
            "99/99 [==============================] - 12s 123ms/step - loss: 5.5642 - accuracy: 0.0388\n",
            "Epoch 3/90\n",
            "99/99 [==============================] - 12s 125ms/step - loss: 5.3019 - accuracy: 0.0397\n",
            "Epoch 4/90\n",
            "99/99 [==============================] - 12s 125ms/step - loss: 5.1232 - accuracy: 0.0429\n",
            "Epoch 5/90\n",
            "99/99 [==============================] - 12s 123ms/step - loss: 4.9600 - accuracy: 0.0680\n",
            "Epoch 6/90\n",
            "99/99 [==============================] - 12s 124ms/step - loss: 4.8315 - accuracy: 0.0759\n",
            "Epoch 7/90\n",
            "99/99 [==============================] - 12s 125ms/step - loss: 4.7074 - accuracy: 0.0912\n",
            "Epoch 8/90\n",
            "99/99 [==============================] - 13s 127ms/step - loss: 4.6237 - accuracy: 0.0874\n",
            "Epoch 9/90\n",
            "99/99 [==============================] - 12s 125ms/step - loss: 4.5361 - accuracy: 0.0998\n",
            "Epoch 10/90\n",
            "99/99 [==============================] - 12s 126ms/step - loss: 4.4350 - accuracy: 0.1080\n",
            "Epoch 11/90\n",
            "99/99 [==============================] - 12s 125ms/step - loss: 4.3592 - accuracy: 0.1109\n",
            "Epoch 12/90\n",
            "99/99 [==============================] - 12s 126ms/step - loss: 4.2964 - accuracy: 0.1239\n",
            "Epoch 13/90\n",
            "99/99 [==============================] - 12s 125ms/step - loss: 4.2513 - accuracy: 0.1322\n",
            "Epoch 14/90\n",
            "99/99 [==============================] - 12s 124ms/step - loss: 4.1723 - accuracy: 0.1490\n",
            "Epoch 15/90\n",
            "99/99 [==============================] - 12s 123ms/step - loss: 4.0855 - accuracy: 0.1589\n",
            "Epoch 16/90\n",
            "99/99 [==============================] - 12s 124ms/step - loss: 4.0086 - accuracy: 0.1710\n",
            "Epoch 17/90\n",
            "99/99 [==============================] - 12s 123ms/step - loss: 3.9274 - accuracy: 0.1830\n",
            "Epoch 18/90\n",
            "99/99 [==============================] - 12s 123ms/step - loss: 3.8878 - accuracy: 0.1884\n",
            "Epoch 19/90\n",
            "99/99 [==============================] - 12s 124ms/step - loss: 3.8265 - accuracy: 0.2037\n",
            "Epoch 20/90\n",
            "99/99 [==============================] - 12s 123ms/step - loss: 3.7589 - accuracy: 0.2212\n",
            "Epoch 21/90\n",
            "99/99 [==============================] - 12s 125ms/step - loss: 3.7013 - accuracy: 0.2167\n",
            "Epoch 22/90\n",
            "99/99 [==============================] - 12s 126ms/step - loss: 3.6596 - accuracy: 0.2377\n",
            "Epoch 23/90\n",
            "99/99 [==============================] - 12s 124ms/step - loss: 3.5777 - accuracy: 0.2472\n",
            "Epoch 24/90\n",
            "99/99 [==============================] - 12s 124ms/step - loss: 3.5288 - accuracy: 0.2545\n",
            "Epoch 25/90\n",
            "99/99 [==============================] - 12s 126ms/step - loss: 3.5044 - accuracy: 0.2650\n",
            "Epoch 26/90\n",
            "99/99 [==============================] - 12s 125ms/step - loss: 3.4785 - accuracy: 0.2622\n",
            "Epoch 27/90\n",
            "99/99 [==============================] - 12s 124ms/step - loss: 3.3771 - accuracy: 0.2876\n",
            "Epoch 28/90\n",
            "99/99 [==============================] - 12s 125ms/step - loss: 3.3366 - accuracy: 0.2866\n",
            "Epoch 29/90\n",
            "99/99 [==============================] - 12s 125ms/step - loss: 3.3056 - accuracy: 0.2923\n",
            "Epoch 30/90\n",
            "99/99 [==============================] - 12s 124ms/step - loss: 3.2268 - accuracy: 0.3092\n",
            "Epoch 31/90\n",
            "99/99 [==============================] - 12s 124ms/step - loss: 3.1784 - accuracy: 0.3206\n",
            "Epoch 32/90\n",
            "99/99 [==============================] - 12s 124ms/step - loss: 3.1051 - accuracy: 0.3387\n",
            "Epoch 33/90\n",
            "99/99 [==============================] - 12s 126ms/step - loss: 3.0666 - accuracy: 0.3502\n",
            "Epoch 34/90\n",
            "99/99 [==============================] - 12s 124ms/step - loss: 2.9801 - accuracy: 0.3654\n",
            "Epoch 35/90\n",
            "99/99 [==============================] - 12s 124ms/step - loss: 2.9380 - accuracy: 0.3858\n",
            "Epoch 36/90\n",
            "99/99 [==============================] - 12s 124ms/step - loss: 2.9166 - accuracy: 0.3715\n",
            "Epoch 37/90\n",
            "99/99 [==============================] - 12s 125ms/step - loss: 2.8738 - accuracy: 0.3928\n",
            "Epoch 38/90\n",
            "99/99 [==============================] - 13s 127ms/step - loss: 2.9085 - accuracy: 0.3877\n",
            "Epoch 39/90\n",
            "99/99 [==============================] - 12s 124ms/step - loss: 2.8009 - accuracy: 0.4093\n",
            "Epoch 40/90\n",
            "99/99 [==============================] - 13s 127ms/step - loss: 2.7183 - accuracy: 0.4169\n",
            "Epoch 41/90\n",
            "99/99 [==============================] - 13s 127ms/step - loss: 2.6614 - accuracy: 0.4350\n",
            "Epoch 42/90\n",
            "99/99 [==============================] - 12s 124ms/step - loss: 2.6425 - accuracy: 0.4401\n",
            "Epoch 43/90\n",
            "99/99 [==============================] - 12s 125ms/step - loss: 2.5823 - accuracy: 0.4509\n",
            "Epoch 44/90\n",
            "99/99 [==============================] - 12s 125ms/step - loss: 2.5515 - accuracy: 0.4573\n",
            "Epoch 45/90\n",
            "99/99 [==============================] - 12s 125ms/step - loss: 2.5650 - accuracy: 0.4506\n",
            "Epoch 46/90\n",
            "99/99 [==============================] - 12s 124ms/step - loss: 2.5103 - accuracy: 0.4671\n",
            "Epoch 47/90\n",
            "99/99 [==============================] - 12s 125ms/step - loss: 2.4476 - accuracy: 0.4751\n",
            "Epoch 48/90\n",
            "99/99 [==============================] - 12s 125ms/step - loss: 2.3954 - accuracy: 0.4909\n",
            "Epoch 49/90\n",
            "99/99 [==============================] - 12s 125ms/step - loss: 2.3406 - accuracy: 0.5094\n",
            "Epoch 50/90\n",
            "99/99 [==============================] - 12s 126ms/step - loss: 2.2862 - accuracy: 0.5119\n",
            "Epoch 51/90\n",
            "99/99 [==============================] - 13s 127ms/step - loss: 2.2455 - accuracy: 0.5253\n",
            "Epoch 52/90\n",
            "99/99 [==============================] - 13s 127ms/step - loss: 2.2208 - accuracy: 0.5383\n",
            "Epoch 53/90\n",
            "99/99 [==============================] - 13s 128ms/step - loss: 2.1796 - accuracy: 0.5469\n",
            "Epoch 54/90\n",
            "99/99 [==============================] - 13s 128ms/step - loss: 2.1376 - accuracy: 0.5609\n",
            "Epoch 55/90\n",
            "99/99 [==============================] - 12s 126ms/step - loss: 2.0934 - accuracy: 0.5691\n",
            "Epoch 56/90\n",
            "99/99 [==============================] - 13s 127ms/step - loss: 2.0991 - accuracy: 0.5618\n",
            "Epoch 57/90\n",
            "99/99 [==============================] - 13s 127ms/step - loss: 2.0644 - accuracy: 0.5771\n",
            "Epoch 58/90\n",
            "99/99 [==============================] - 13s 129ms/step - loss: 2.0048 - accuracy: 0.5869\n",
            "Epoch 59/90\n",
            "99/99 [==============================] - 12s 126ms/step - loss: 1.9827 - accuracy: 0.5939\n",
            "Epoch 60/90\n",
            "99/99 [==============================] - 12s 125ms/step - loss: 1.9695 - accuracy: 0.5914\n",
            "Epoch 61/90\n",
            "99/99 [==============================] - 12s 125ms/step - loss: 1.9144 - accuracy: 0.6066\n",
            "Epoch 62/90\n",
            "99/99 [==============================] - 12s 124ms/step - loss: 1.8820 - accuracy: 0.6165\n",
            "Epoch 63/90\n",
            "99/99 [==============================] - 12s 125ms/step - loss: 1.8284 - accuracy: 0.6298\n",
            "Epoch 64/90\n",
            "99/99 [==============================] - 13s 127ms/step - loss: 1.8126 - accuracy: 0.6422\n",
            "Epoch 65/90\n",
            "99/99 [==============================] - 13s 126ms/step - loss: 1.8603 - accuracy: 0.6247\n",
            "Epoch 66/90\n",
            "99/99 [==============================] - 13s 126ms/step - loss: 1.8459 - accuracy: 0.6231\n",
            "Epoch 67/90\n",
            "99/99 [==============================] - 13s 127ms/step - loss: 1.7948 - accuracy: 0.6374\n",
            "Epoch 68/90\n",
            "99/99 [==============================] - 12s 126ms/step - loss: 1.7282 - accuracy: 0.6517\n",
            "Epoch 69/90\n",
            "99/99 [==============================] - 13s 127ms/step - loss: 1.6908 - accuracy: 0.6702\n",
            "Epoch 70/90\n",
            "99/99 [==============================] - 13s 127ms/step - loss: 1.6730 - accuracy: 0.6644\n",
            "Epoch 71/90\n",
            "99/99 [==============================] - 13s 127ms/step - loss: 1.6284 - accuracy: 0.6835\n",
            "Epoch 72/90\n",
            "99/99 [==============================] - 13s 127ms/step - loss: 1.5945 - accuracy: 0.6918\n",
            "Epoch 73/90\n",
            "99/99 [==============================] - 12s 126ms/step - loss: 1.5706 - accuracy: 0.6943\n",
            "Epoch 74/90\n",
            "99/99 [==============================] - 12s 125ms/step - loss: 1.5360 - accuracy: 0.7121\n",
            "Epoch 75/90\n",
            "99/99 [==============================] - 12s 126ms/step - loss: 1.5242 - accuracy: 0.7105\n",
            "Epoch 76/90\n",
            "99/99 [==============================] - 13s 127ms/step - loss: 1.5006 - accuracy: 0.7080\n",
            "Epoch 77/90\n",
            "99/99 [==============================] - 13s 128ms/step - loss: 1.4967 - accuracy: 0.7169\n",
            "Epoch 78/90\n",
            "99/99 [==============================] - 12s 126ms/step - loss: 1.4845 - accuracy: 0.7223\n",
            "Epoch 79/90\n",
            "99/99 [==============================] - 13s 127ms/step - loss: 1.4367 - accuracy: 0.7321\n",
            "Epoch 80/90\n",
            "99/99 [==============================] - 12s 126ms/step - loss: 1.4145 - accuracy: 0.7417\n",
            "Epoch 81/90\n",
            "99/99 [==============================] - 12s 126ms/step - loss: 1.4130 - accuracy: 0.7359\n",
            "Epoch 82/90\n",
            "99/99 [==============================] - 13s 128ms/step - loss: 1.4141 - accuracy: 0.7321\n",
            "Epoch 83/90\n",
            "99/99 [==============================] - 13s 128ms/step - loss: 1.3793 - accuracy: 0.7439\n",
            "Epoch 84/90\n",
            "99/99 [==============================] - 13s 128ms/step - loss: 1.3597 - accuracy: 0.7537\n",
            "Epoch 85/90\n",
            "99/99 [==============================] - 13s 126ms/step - loss: 1.3350 - accuracy: 0.7623\n",
            "Epoch 86/90\n",
            "99/99 [==============================] - 12s 126ms/step - loss: 1.3157 - accuracy: 0.7636\n",
            "Epoch 87/90\n",
            "99/99 [==============================] - 12s 126ms/step - loss: 1.3132 - accuracy: 0.7639\n",
            "Epoch 88/90\n",
            "99/99 [==============================] - 13s 127ms/step - loss: 1.2737 - accuracy: 0.7664\n",
            "Epoch 89/90\n",
            "99/99 [==============================] - 12s 126ms/step - loss: 1.2391 - accuracy: 0.7919\n",
            "Epoch 90/90\n",
            "99/99 [==============================] - 12s 126ms/step - loss: 1.2358 - accuracy: 0.7855\n"
          ],
          "name": "stdout"
        }
      ]
    },
    {
      "cell_type": "code",
      "metadata": {
        "id": "itHarcHzDvQ-",
        "colab_type": "code",
        "colab": {
          "base_uri": "https://localhost:8080/",
          "height": 544
        },
        "outputId": "3c105d22-1269-4aeb-9a23-0b9e91a10e9e"
      },
      "source": [
        "import matplotlib.pyplot as plt\n",
        "acc = history.history['accuracy']\n",
        "loss = history.history['loss']\n",
        "\n",
        "epochs = range(len(acc))\n",
        "\n",
        "plt.plot(epochs, acc, 'b', label='Training accuracy')\n",
        "plt.title('Training accuracy')\n",
        "\n",
        "plt.figure()\n",
        "\n",
        "plt.plot(epochs, loss, 'b', label='Training Loss')\n",
        "plt.title('Training loss')\n",
        "plt.legend()\n",
        "\n",
        "plt.show()"
      ],
      "execution_count": 15,
      "outputs": [
        {
          "output_type": "display_data",
          "data": {
            "image/png": "[encoded data removed]",
            "text/plain": [
              "<Figure size 432x288 with 1 Axes>"
            ]
          },
          "metadata": {
            "tags": [],
            "needs_background": "light"
          }
        },
        {
          "output_type": "display_data",
          "data": {
            "image/png": "[encoded data removed]",
            "text/plain": [
              "<Figure size 432x288 with 1 Axes>"
            ]
          },
          "metadata": {
            "tags": [],
            "needs_background": "light"
          }
        }
      ]
    },
    {
      "cell_type": "code",
      "metadata": {
        "id": "IYkZ7U8wHf3k",
        "colab_type": "code",
        "colab": {
          "base_uri": "https://localhost:8080/",
          "height": 53
        },
        "outputId": "383aca2e-9b9a-4b66-e1b0-853cb9ea36ef"
      },
      "source": [
        "seed_text = \"look at the stars night\"\n",
        "next_words = 40\n",
        "  \n",
        "for _ in range(next_words):\n",
        "\ttoken_list = tokenizer.texts_to_sequences([seed_text])[0]\n",
        "\ttoken_list = pad_sequences([token_list], maxlen=max_sequence_len-1, padding='pre')\n",
        "\tpredicted = model.predict_classes(token_list, verbose=0)\n",
        "\toutput_word = \"\"\n",
        "\tfor word, index in tokenizer.word_index.items():\n",
        "\t\tif index == predicted:\n",
        "\t\t\toutput_word = word\n",
        "\t\t\tbreak\n",
        "\tseed_text += \" \" + output_word\n",
        "print(seed_text)"
      ],
      "execution_count": 20,
      "outputs": [
        {
          "output_type": "stream",
          "text": [
            "look at the stars night you do forever frozen still country lanes yeah and bones and long i go home so the stars that's been thing that makes you near me back way i'm long in me i never stars to still fit in those\n"
          ],
          "name": "stdout"
        }
      ]
    },
    {
      "cell_type": "code",
      "metadata": {
        "id": "1UKJlqKOH3As",
        "colab_type": "code",
        "colab": {}
      },
      "source": [
        ""
      ],
      "execution_count": 0,
      "outputs": []
    }
  ]
}